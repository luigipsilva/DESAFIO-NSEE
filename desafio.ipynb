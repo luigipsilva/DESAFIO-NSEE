{
 "cells": [
  {
   "cell_type": "code",
   "execution_count": 2,
   "metadata": {},
   "outputs": [
    {
     "name": "stdout",
     "output_type": "stream",
     "text": [
      "PyTables is not installed. No support for HDF output.\n",
      "SQLalchemy is not installed. No support for SQL output.\n"
     ]
    }
   ],
   "source": [
    "from dbfread import DBF\n",
    "import pandas as pd\n",
    "from simpledbf import Dbf5\n",
    "from datetime import datetime\n",
    "import numpy as np"
   ]
  },
  {
   "cell_type": "code",
   "execution_count": 17,
   "metadata": {},
   "outputs": [],
   "source": [
    "def remover(df, colunas):\n",
    "    return df.drop(columns=colunas, errors='ignore')"
   ]
  },
  {
   "cell_type": "code",
   "execution_count": 18,
   "metadata": {},
   "outputs": [],
   "source": [
    "def binario(colunaA):\n",
    "    empty = []\n",
    "    colunaA = colunaA.to_list()  # Converte a coluna para uma lista, se necessário\n",
    "    for valor in colunaA:\n",
    "        if valor in [1, 2]:  # Verifica se o valor é 1 ou 2\n",
    "            empty.append(1)\n",
    "        else:\n",
    "            empty.append(0)\n",
    "    return empty"
   ]
  },
  {
   "cell_type": "code",
   "execution_count": 19,
   "metadata": {},
   "outputs": [],
   "source": [
    "def extrair(colunaA):\n",
    "    empty = []\n",
    "    \n",
    "    for stra in colunaA:\n",
    "        if pd.isna(stra):  # Check for NaN values\n",
    "            empty.append(np.nan)  # Use np.nan for missing values\n",
    "            continue\n",
    "        try:\n",
    "            # Split the string and get the desired part\n",
    "            stra_value = stra.split(\" \")[1]  # Adjust index as needed\n",
    "            empty.append(stra_value)  # Append the actual value\n",
    "        except IndexError:\n",
    "            # Handle case where split doesn't yield enough parts\n",
    "            empty.append(np.nan)  # Or append None, depending on your needs\n",
    "        except Exception as e:\n",
    "            # Catch other potential errors\n",
    "            print(f\"Error processing entry '{stra}': {e}\")\n",
    "            empty.append(np.nan)\n",
    "\n",
    "    return empty"
   ]
  },
  {
   "cell_type": "code",
   "execution_count": 20,
   "metadata": {},
   "outputs": [],
   "source": [
    "def diferencaA(colunaA, colunaB):\n",
    "    empty = []\n",
    "    colunaA = colunaA.to_list()\n",
    "    colunaB = colunaB.to_list()\n",
    "    for i in range(len(colunaA)):\n",
    "        date_format = \"%Y-%m-%d\"\n",
    "        coluna_a = datetime.strptime(colunaA[i], date_format)\n",
    "        coluna_b = datetime.strptime(colunaB[i], date_format)\n",
    "        dif = (coluna_b - coluna_a).days\n",
    "        if dif <= 30 :\n",
    "            empty.append(0)\n",
    "        elif dif <= 60 :\n",
    "            empty.append(1)\n",
    "        else:\n",
    "            empty.append(2)\n",
    "    return empty"
   ]
  },
  {
   "cell_type": "code",
   "execution_count": 21,
   "metadata": {},
   "outputs": [],
   "source": [
    "def diferencaB(colunaA, colunaB):\n",
    "    # Garantir que ambas as colunas sejam listas\n",
    "    colunaA = colunaA.to_list()\n",
    "    colunaB = colunaB.to_list()\n",
    "    \n",
    "    empty = []\n",
    "    date_format = \"%Y-%m-%d\"  # Definindo o formato da data uma vez\n",
    "    \n",
    "    for date_a, date_b in zip(colunaA, colunaB):\n",
    "        if pd.isna(date_a) or pd.isna(date_b):\n",
    "            empty.append('Não Tratou')\n",
    "            continue\n",
    "\n",
    "        coluna_a = datetime.strptime(date_a, date_format)\n",
    "        coluna_b = datetime.strptime(date_b, date_format)\n",
    "        dif = (coluna_b - coluna_a).days\n",
    "\n",
    "        if dif <= 30:\n",
    "            empty.append(0)\n",
    "        elif dif <= 60:\n",
    "            empty.append(1)\n",
    "        elif dif <= 90:\n",
    "            empty.append(2)\n",
    "        else:\n",
    "            empty.append('Não Tratou')\n",
    "\n",
    "    return empty"
   ]
  },
  {
   "cell_type": "code",
   "execution_count": 7,
   "metadata": {},
   "outputs": [],
   "source": [
    "dbfile = Dbf5('pacigeral_jun24.dbf', codec='latin-1')\n",
    "dbfile.to_csv(\"paciente_geral_v2.csv\")\n",
    "pd.set_option('display.max_columns', None)\n"
   ]
  },
  {
   "cell_type": "code",
   "execution_count": 8,
   "metadata": {},
   "outputs": [
    {
     "name": "stderr",
     "output_type": "stream",
     "text": [
      "C:\\Users\\silva\\AppData\\Local\\Temp\\ipykernel_12184\\4039390663.py:1: DtypeWarning: Columns (37,38,39,40,77,78,79,82,93,94,95) have mixed types. Specify dtype option on import or set low_memory=False.\n",
      "  df = pd.read_csv('paciente_geral_v2.csv', encoding='latin-1', sep=',')\n"
     ]
    }
   ],
   "source": [
    "df = pd.read_csv('paciente_geral_v2.csv', encoding='latin-1', sep=',')"
   ]
  },
  {
   "cell_type": "code",
   "execution_count": 9,
   "metadata": {},
   "outputs": [
    {
     "data": {
      "text/plain": [
       "56800"
      ]
     },
     "execution_count": 9,
     "metadata": {},
     "output_type": "execute_result"
    }
   ],
   "source": [
    "df_ajustado = df[df['TOPOGRUP'] == 'C34']\n",
    "df_ajustado.shape[0]\n"
   ]
  },
  {
   "cell_type": "code",
   "execution_count": 10,
   "metadata": {},
   "outputs": [
    {
     "data": {
      "text/plain": [
       "52205"
      ]
     },
     "execution_count": 10,
     "metadata": {},
     "output_type": "execute_result"
    }
   ],
   "source": [
    "df_ajustado = df_ajustado[df_ajustado['UFRESID'] == 'SP']\n",
    "df_ajustado.shape[0]"
   ]
  },
  {
   "cell_type": "code",
   "execution_count": 11,
   "metadata": {},
   "outputs": [
    {
     "data": {
      "text/plain": [
       "50583"
      ]
     },
     "execution_count": 11,
     "metadata": {},
     "output_type": "execute_result"
    }
   ],
   "source": [
    "df_ajustado = df_ajustado[df_ajustado['BASEDIAG'] == 3] \n",
    "df_ajustado.shape[0]"
   ]
  },
  {
   "cell_type": "code",
   "execution_count": 12,
   "metadata": {},
   "outputs": [
    {
     "data": {
      "text/plain": [
       "45452"
      ]
     },
     "execution_count": 12,
     "metadata": {},
     "output_type": "execute_result"
    }
   ],
   "source": [
    "df_ajustado = df_ajustado[(df_ajustado['ECGRUP'] != 0) & (df_ajustado['ECGRUP'] != 'X') & (df_ajustado['ECGRUP'] != 'Y')]\n",
    "df_ajustado.shape[0]"
   ]
  },
  {
   "cell_type": "code",
   "execution_count": 13,
   "metadata": {},
   "outputs": [
    {
     "data": {
      "text/plain": [
       "45241"
      ]
     },
     "execution_count": 13,
     "metadata": {},
     "output_type": "execute_result"
    }
   ],
   "source": [
    "df_ajustado = df_ajustado[(df_ajustado['HORMONIO'] != 1) & (df_ajustado['TMO'] != 1)]\n",
    "df_ajustado.shape[0]"
   ]
  },
  {
   "cell_type": "code",
   "execution_count": 14,
   "metadata": {},
   "outputs": [
    {
     "data": {
      "text/plain": [
       "38771"
      ]
     },
     "execution_count": 14,
     "metadata": {},
     "output_type": "execute_result"
    }
   ],
   "source": [
    "df_ajustado = df_ajustado[df_ajustado['ANODIAG'] <= 2019]\n",
    "df_ajustado.shape[0]"
   ]
  },
  {
   "cell_type": "code",
   "execution_count": 15,
   "metadata": {},
   "outputs": [
    {
     "data": {
      "text/plain": [
       "38759"
      ]
     },
     "execution_count": 15,
     "metadata": {},
     "output_type": "execute_result"
    }
   ],
   "source": [
    "df_ajustado = df_ajustado[df_ajustado['IDADE'] >= 20]\n",
    "df_ajustado.shape[0]\n"
   ]
  },
  {
   "cell_type": "code",
   "execution_count": 22,
   "metadata": {},
   "outputs": [
    {
     "data": {
      "text/plain": [
       "38759"
      ]
     },
     "execution_count": 22,
     "metadata": {},
     "output_type": "execute_result"
    }
   ],
   "source": [
    "df_ajustado['CONSDIAG'] = diferencaA(df_ajustado['DTCONSULT'], df_ajustado['DTDIAG'])\n",
    "df_ajustado.shape[0]"
   ]
  },
  {
   "cell_type": "code",
   "execution_count": 23,
   "metadata": {},
   "outputs": [
    {
     "data": {
      "text/plain": [
       "38759"
      ]
     },
     "execution_count": 23,
     "metadata": {},
     "output_type": "execute_result"
    }
   ],
   "source": [
    "df_ajustado['DIAGTRAT'] = diferencaB(df_ajustado['DTDIAG'], df_ajustado['DTTRAT'])\n",
    "df_ajustado.shape[0]"
   ]
  },
  {
   "cell_type": "code",
   "execution_count": 24,
   "metadata": {},
   "outputs": [
    {
     "data": {
      "text/plain": [
       "38759"
      ]
     },
     "execution_count": 24,
     "metadata": {},
     "output_type": "execute_result"
    }
   ],
   "source": [
    "df_ajustado['TRATCONS'] = diferencaB(df_ajustado['DTCONSULT'], df_ajustado['DTTRAT'])\n",
    "df_ajustado.shape[0]"
   ]
  },
  {
   "cell_type": "code",
   "execution_count": 25,
   "metadata": {},
   "outputs": [
    {
     "data": {
      "text/plain": [
       "38759"
      ]
     },
     "execution_count": 25,
     "metadata": {},
     "output_type": "execute_result"
    }
   ],
   "source": [
    "df_ajustado['DRS'] = extrair(df_ajustado['DRS'])\n",
    "df_ajustado.shape[0]"
   ]
  },
  {
   "cell_type": "code",
   "execution_count": 26,
   "metadata": {},
   "outputs": [
    {
     "data": {
      "text/plain": [
       "38759"
      ]
     },
     "execution_count": 26,
     "metadata": {},
     "output_type": "execute_result"
    }
   ],
   "source": [
    "df_ajustado['DRSINST'] = extrair(df_ajustado['DRSINST'])\n",
    "df_ajustado.shape[0]"
   ]
  },
  {
   "cell_type": "code",
   "execution_count": 27,
   "metadata": {},
   "outputs": [
    {
     "data": {
      "text/plain": [
       "38759"
      ]
     },
     "execution_count": 27,
     "metadata": {},
     "output_type": "execute_result"
    }
   ],
   "source": [
    "df_ajustado['OBITO'] = binario(df_ajustado['ULTINFO'])\n",
    "df_ajustado.shape[0]"
   ]
  },
  {
   "cell_type": "code",
   "execution_count": 28,
   "metadata": {},
   "outputs": [
    {
     "data": {
      "text/plain": [
       "38759"
      ]
     },
     "execution_count": 28,
     "metadata": {},
     "output_type": "execute_result"
    }
   ],
   "source": [
    "df_ajustado = remover(df_ajustado,[\"UFNASC\", \"UFRESID\", \"CIDADE\", \"DTCONSULT\", \"CLINICA\", \"DTDIAG\",\n",
    "\"BASEDIAG\", \"TOPOGRUP\", \"DESCTOPO\", \"DESCMORFO\", \"T\", \"N\",\n",
    "\"M\", \"PT\", \"PN\", \"PM\", \"S\", \"G\", \"LOCALTNM\", \"IDMITOTIC\",\n",
    "\"PSA\", \"GLEASON\", \"OUTRACLA\", \"META01\", \"META02\", \"META03\",\n",
    "\"META04\", \"DTTRAT\", \"NAOTRAT\", \"TRATAMENTO\", \"TRATHOSP\",\n",
    "\"TRATFANTES\", \"TRATFAPOS\", \"HORMONIO\", \"TMO\", \"NENHUMANT\",\n",
    "\"CIRURANT\", \"RADIOANT\", \"QUIMIOANT\", \"HORMOANT\", \"TMOANT\",\n",
    "\"IMUNOANT\", \"OUTROANT\", \"HORMOAPOS\", \"TMOAPOS\", \"DTULTINFO\",\n",
    "\"CICI\", \"CICIGRUP\", \"CICISUBGRU\", \"FAIXAETAR\", \"LATERALI\",\n",
    "\"INSTORIG\", \"RRAS\", \"ERRO\", \"DTRECIDIVA\", \"RECNENHUM\",\n",
    "\"RECLOCAL\", \"RECREGIO\", \"RECDIST\", \"REC01\", \"REC02\",\n",
    "\"REC03\", \"REC04\", \"CID\", \"DSCCIDO\", \"HABILIT\", \"HABIT11\",\n",
    "\"HABILIT1\", \"CIDADEH\", \"PERDASEG\"])\n",
    "df_ajustado.shape[0]"
   ]
  },
  {
   "cell_type": "code",
   "execution_count": 32,
   "metadata": {},
   "outputs": [
    {
     "data": {
      "text/html": [
       "<div>\n",
       "<style scoped>\n",
       "    .dataframe tbody tr th:only-of-type {\n",
       "        vertical-align: middle;\n",
       "    }\n",
       "\n",
       "    .dataframe tbody tr th {\n",
       "        vertical-align: top;\n",
       "    }\n",
       "\n",
       "    .dataframe thead th {\n",
       "        text-align: right;\n",
       "    }\n",
       "</style>\n",
       "<table border=\"1\" class=\"dataframe\">\n",
       "  <thead>\n",
       "    <tr style=\"text-align: right;\">\n",
       "      <th></th>\n",
       "      <th>INSTITU</th>\n",
       "      <th>DSCINST</th>\n",
       "      <th>ESCOLARI</th>\n",
       "      <th>IDADE</th>\n",
       "      <th>SEXO</th>\n",
       "      <th>IBGE</th>\n",
       "      <th>CATEATEND</th>\n",
       "      <th>DIAGPREV</th>\n",
       "      <th>TOPO</th>\n",
       "      <th>MORFO</th>\n",
       "      <th>CIDO</th>\n",
       "      <th>DESCIDO</th>\n",
       "      <th>EC</th>\n",
       "      <th>ECGRUP</th>\n",
       "      <th>NENHUM</th>\n",
       "      <th>CIRURGIA</th>\n",
       "      <th>RADIO</th>\n",
       "      <th>QUIMIO</th>\n",
       "      <th>IMUNO</th>\n",
       "      <th>OUTROS</th>\n",
       "      <th>NENHUMAPOS</th>\n",
       "      <th>CIRURAPOS</th>\n",
       "      <th>RADIOAPOS</th>\n",
       "      <th>QUIMIOAPOS</th>\n",
       "      <th>IMUNOAPOS</th>\n",
       "      <th>OUTROAPOS</th>\n",
       "      <th>ULTINFO</th>\n",
       "      <th>CONSDIAG</th>\n",
       "      <th>TRATCONS</th>\n",
       "      <th>DIAGTRAT</th>\n",
       "      <th>ANODIAG</th>\n",
       "      <th>DRS</th>\n",
       "      <th>IBGEATEN</th>\n",
       "      <th>DRSINST</th>\n",
       "      <th>RRASINST</th>\n",
       "      <th>CIDADEINST</th>\n",
       "      <th>HABILIT2</th>\n",
       "      <th>OBITO</th>\n",
       "    </tr>\n",
       "  </thead>\n",
       "  <tbody>\n",
       "    <tr>\n",
       "      <th>169</th>\n",
       "      <td>20230</td>\n",
       "      <td>SANTA CASA DE ARARAS</td>\n",
       "      <td>9</td>\n",
       "      <td>73</td>\n",
       "      <td>1</td>\n",
       "      <td>3503307</td>\n",
       "      <td>9</td>\n",
       "      <td>2</td>\n",
       "      <td>C340</td>\n",
       "      <td>82513</td>\n",
       "      <td>82513.0</td>\n",
       "      <td>ADENOCARCINOMA ALVEOLAR</td>\n",
       "      <td>IB</td>\n",
       "      <td>I</td>\n",
       "      <td>0</td>\n",
       "      <td>1</td>\n",
       "      <td>0</td>\n",
       "      <td>1</td>\n",
       "      <td>0</td>\n",
       "      <td>0</td>\n",
       "      <td>1</td>\n",
       "      <td>0</td>\n",
       "      <td>0</td>\n",
       "      <td>0</td>\n",
       "      <td>0</td>\n",
       "      <td>0</td>\n",
       "      <td>3</td>\n",
       "      <td>0</td>\n",
       "      <td>0</td>\n",
       "      <td>0</td>\n",
       "      <td>2002</td>\n",
       "      <td>10</td>\n",
       "      <td>3503307</td>\n",
       "      <td>10</td>\n",
       "      <td>RRAS 14</td>\n",
       "      <td>ARARAS</td>\n",
       "      <td>1</td>\n",
       "      <td>0</td>\n",
       "    </tr>\n",
       "    <tr>\n",
       "      <th>171</th>\n",
       "      <td>20621</td>\n",
       "      <td>SANTA CASA DE ARARAQUARA</td>\n",
       "      <td>9</td>\n",
       "      <td>67</td>\n",
       "      <td>2</td>\n",
       "      <td>3529302</td>\n",
       "      <td>9</td>\n",
       "      <td>1</td>\n",
       "      <td>C340</td>\n",
       "      <td>82513</td>\n",
       "      <td>82513.0</td>\n",
       "      <td>ADENOCARCINOMA ALVEOLAR</td>\n",
       "      <td>IIIB</td>\n",
       "      <td>III</td>\n",
       "      <td>0</td>\n",
       "      <td>0</td>\n",
       "      <td>0</td>\n",
       "      <td>1</td>\n",
       "      <td>0</td>\n",
       "      <td>0</td>\n",
       "      <td>1</td>\n",
       "      <td>0</td>\n",
       "      <td>0</td>\n",
       "      <td>0</td>\n",
       "      <td>0</td>\n",
       "      <td>0</td>\n",
       "      <td>1</td>\n",
       "      <td>0</td>\n",
       "      <td>0</td>\n",
       "      <td>0</td>\n",
       "      <td>2004</td>\n",
       "      <td>03</td>\n",
       "      <td>3503208</td>\n",
       "      <td>03</td>\n",
       "      <td>RRAS 18</td>\n",
       "      <td>ARARAQUARA</td>\n",
       "      <td>1</td>\n",
       "      <td>1</td>\n",
       "    </tr>\n",
       "    <tr>\n",
       "      <th>172</th>\n",
       "      <td>18058</td>\n",
       "      <td>HOSP ANCHIETA  FUNDACAO ABC</td>\n",
       "      <td>2</td>\n",
       "      <td>72</td>\n",
       "      <td>2</td>\n",
       "      <td>3548708</td>\n",
       "      <td>2</td>\n",
       "      <td>2</td>\n",
       "      <td>C340</td>\n",
       "      <td>82513</td>\n",
       "      <td>82513.0</td>\n",
       "      <td>ADENOCARCINOMA ALVEOLAR</td>\n",
       "      <td>IV</td>\n",
       "      <td>IV</td>\n",
       "      <td>0</td>\n",
       "      <td>0</td>\n",
       "      <td>1</td>\n",
       "      <td>0</td>\n",
       "      <td>0</td>\n",
       "      <td>0</td>\n",
       "      <td>1</td>\n",
       "      <td>0</td>\n",
       "      <td>0</td>\n",
       "      <td>0</td>\n",
       "      <td>0</td>\n",
       "      <td>0</td>\n",
       "      <td>3</td>\n",
       "      <td>0</td>\n",
       "      <td>1</td>\n",
       "      <td>2</td>\n",
       "      <td>2016</td>\n",
       "      <td>01</td>\n",
       "      <td>3548708</td>\n",
       "      <td>01</td>\n",
       "      <td>RRAS 01</td>\n",
       "      <td>SAO BERNARDO DO CAMPO</td>\n",
       "      <td>1</td>\n",
       "      <td>0</td>\n",
       "    </tr>\n",
       "    <tr>\n",
       "      <th>173</th>\n",
       "      <td>19976</td>\n",
       "      <td>HOSP MAT CELSO PIERRO  PUCC</td>\n",
       "      <td>9</td>\n",
       "      <td>65</td>\n",
       "      <td>2</td>\n",
       "      <td>3501608</td>\n",
       "      <td>9</td>\n",
       "      <td>2</td>\n",
       "      <td>C340</td>\n",
       "      <td>82513</td>\n",
       "      <td>82513.0</td>\n",
       "      <td>ADENOCARCINOMA ALVEOLAR</td>\n",
       "      <td>IB</td>\n",
       "      <td>I</td>\n",
       "      <td>0</td>\n",
       "      <td>0</td>\n",
       "      <td>0</td>\n",
       "      <td>1</td>\n",
       "      <td>0</td>\n",
       "      <td>1</td>\n",
       "      <td>0</td>\n",
       "      <td>0</td>\n",
       "      <td>0</td>\n",
       "      <td>0</td>\n",
       "      <td>0</td>\n",
       "      <td>1</td>\n",
       "      <td>1</td>\n",
       "      <td>0</td>\n",
       "      <td>0</td>\n",
       "      <td>1</td>\n",
       "      <td>2010</td>\n",
       "      <td>07</td>\n",
       "      <td>3509502</td>\n",
       "      <td>07</td>\n",
       "      <td>RRAS 15</td>\n",
       "      <td>CAMPINAS</td>\n",
       "      <td>1</td>\n",
       "      <td>1</td>\n",
       "    </tr>\n",
       "    <tr>\n",
       "      <th>174</th>\n",
       "      <td>18058</td>\n",
       "      <td>HOSP ANCHIETA  FUNDACAO ABC</td>\n",
       "      <td>3</td>\n",
       "      <td>63</td>\n",
       "      <td>1</td>\n",
       "      <td>3548708</td>\n",
       "      <td>2</td>\n",
       "      <td>2</td>\n",
       "      <td>C340</td>\n",
       "      <td>82513</td>\n",
       "      <td>82513.0</td>\n",
       "      <td>ADENOCARCINOMA ALVEOLAR</td>\n",
       "      <td>IV</td>\n",
       "      <td>IV</td>\n",
       "      <td>0</td>\n",
       "      <td>0</td>\n",
       "      <td>0</td>\n",
       "      <td>1</td>\n",
       "      <td>0</td>\n",
       "      <td>1</td>\n",
       "      <td>1</td>\n",
       "      <td>0</td>\n",
       "      <td>0</td>\n",
       "      <td>0</td>\n",
       "      <td>0</td>\n",
       "      <td>0</td>\n",
       "      <td>3</td>\n",
       "      <td>0</td>\n",
       "      <td>0</td>\n",
       "      <td>2</td>\n",
       "      <td>2015</td>\n",
       "      <td>01</td>\n",
       "      <td>3548708</td>\n",
       "      <td>01</td>\n",
       "      <td>RRAS 01</td>\n",
       "      <td>SAO BERNARDO DO CAMPO</td>\n",
       "      <td>1</td>\n",
       "      <td>0</td>\n",
       "    </tr>\n",
       "    <tr>\n",
       "      <th>...</th>\n",
       "      <td>...</td>\n",
       "      <td>...</td>\n",
       "      <td>...</td>\n",
       "      <td>...</td>\n",
       "      <td>...</td>\n",
       "      <td>...</td>\n",
       "      <td>...</td>\n",
       "      <td>...</td>\n",
       "      <td>...</td>\n",
       "      <td>...</td>\n",
       "      <td>...</td>\n",
       "      <td>...</td>\n",
       "      <td>...</td>\n",
       "      <td>...</td>\n",
       "      <td>...</td>\n",
       "      <td>...</td>\n",
       "      <td>...</td>\n",
       "      <td>...</td>\n",
       "      <td>...</td>\n",
       "      <td>...</td>\n",
       "      <td>...</td>\n",
       "      <td>...</td>\n",
       "      <td>...</td>\n",
       "      <td>...</td>\n",
       "      <td>...</td>\n",
       "      <td>...</td>\n",
       "      <td>...</td>\n",
       "      <td>...</td>\n",
       "      <td>...</td>\n",
       "      <td>...</td>\n",
       "      <td>...</td>\n",
       "      <td>...</td>\n",
       "      <td>...</td>\n",
       "      <td>...</td>\n",
       "      <td>...</td>\n",
       "      <td>...</td>\n",
       "      <td>...</td>\n",
       "      <td>...</td>\n",
       "    </tr>\n",
       "    <tr>\n",
       "      <th>335</th>\n",
       "      <td>4</td>\n",
       "      <td>SOBECCAN</td>\n",
       "      <td>5</td>\n",
       "      <td>59</td>\n",
       "      <td>2</td>\n",
       "      <td>3543402</td>\n",
       "      <td>9</td>\n",
       "      <td>2</td>\n",
       "      <td>C349</td>\n",
       "      <td>82513</td>\n",
       "      <td>82513.0</td>\n",
       "      <td>ADENOCARCINOMA ALVEOLAR</td>\n",
       "      <td>IV</td>\n",
       "      <td>IV</td>\n",
       "      <td>0</td>\n",
       "      <td>0</td>\n",
       "      <td>0</td>\n",
       "      <td>1</td>\n",
       "      <td>0</td>\n",
       "      <td>0</td>\n",
       "      <td>1</td>\n",
       "      <td>0</td>\n",
       "      <td>0</td>\n",
       "      <td>0</td>\n",
       "      <td>0</td>\n",
       "      <td>0</td>\n",
       "      <td>3</td>\n",
       "      <td>0</td>\n",
       "      <td>0</td>\n",
       "      <td>0</td>\n",
       "      <td>2003</td>\n",
       "      <td>13</td>\n",
       "      <td>3543402</td>\n",
       "      <td>13</td>\n",
       "      <td>RRAS 13</td>\n",
       "      <td>RIBEIRAO PRETO</td>\n",
       "      <td>5</td>\n",
       "      <td>0</td>\n",
       "    </tr>\n",
       "    <tr>\n",
       "      <th>336</th>\n",
       "      <td>612374</td>\n",
       "      <td>ICESP</td>\n",
       "      <td>3</td>\n",
       "      <td>64</td>\n",
       "      <td>2</td>\n",
       "      <td>3534401</td>\n",
       "      <td>9</td>\n",
       "      <td>1</td>\n",
       "      <td>C349</td>\n",
       "      <td>82513</td>\n",
       "      <td>82513.0</td>\n",
       "      <td>ADENOCARCINOMA ALVEOLAR</td>\n",
       "      <td>IA</td>\n",
       "      <td>I</td>\n",
       "      <td>0</td>\n",
       "      <td>1</td>\n",
       "      <td>0</td>\n",
       "      <td>0</td>\n",
       "      <td>0</td>\n",
       "      <td>0</td>\n",
       "      <td>1</td>\n",
       "      <td>0</td>\n",
       "      <td>0</td>\n",
       "      <td>0</td>\n",
       "      <td>0</td>\n",
       "      <td>0</td>\n",
       "      <td>4</td>\n",
       "      <td>0</td>\n",
       "      <td>Não Tratou</td>\n",
       "      <td>Não Tratou</td>\n",
       "      <td>2009</td>\n",
       "      <td>01</td>\n",
       "      <td>3550308</td>\n",
       "      <td>01</td>\n",
       "      <td>RRAS 06</td>\n",
       "      <td>SAO PAULO</td>\n",
       "      <td>2</td>\n",
       "      <td>0</td>\n",
       "    </tr>\n",
       "    <tr>\n",
       "      <th>337</th>\n",
       "      <td>20281</td>\n",
       "      <td>SANTA CASA DE LIMEIRA</td>\n",
       "      <td>3</td>\n",
       "      <td>67</td>\n",
       "      <td>1</td>\n",
       "      <td>3526902</td>\n",
       "      <td>9</td>\n",
       "      <td>2</td>\n",
       "      <td>C349</td>\n",
       "      <td>82513</td>\n",
       "      <td>82513.0</td>\n",
       "      <td>ADENOCARCINOMA ALVEOLAR</td>\n",
       "      <td>IV</td>\n",
       "      <td>IV</td>\n",
       "      <td>0</td>\n",
       "      <td>0</td>\n",
       "      <td>0</td>\n",
       "      <td>1</td>\n",
       "      <td>0</td>\n",
       "      <td>0</td>\n",
       "      <td>1</td>\n",
       "      <td>0</td>\n",
       "      <td>0</td>\n",
       "      <td>0</td>\n",
       "      <td>0</td>\n",
       "      <td>0</td>\n",
       "      <td>3</td>\n",
       "      <td>0</td>\n",
       "      <td>0</td>\n",
       "      <td>1</td>\n",
       "      <td>2012</td>\n",
       "      <td>10</td>\n",
       "      <td>3526902</td>\n",
       "      <td>10</td>\n",
       "      <td>RRAS 14</td>\n",
       "      <td>LIMEIRA</td>\n",
       "      <td>1</td>\n",
       "      <td>0</td>\n",
       "    </tr>\n",
       "    <tr>\n",
       "      <th>338</th>\n",
       "      <td>17174</td>\n",
       "      <td>HOSP MARIO COVAS</td>\n",
       "      <td>9</td>\n",
       "      <td>62</td>\n",
       "      <td>1</td>\n",
       "      <td>3548708</td>\n",
       "      <td>2</td>\n",
       "      <td>1</td>\n",
       "      <td>C349</td>\n",
       "      <td>82513</td>\n",
       "      <td>82513.0</td>\n",
       "      <td>ADENOCARCINOMA ALVEOLAR</td>\n",
       "      <td>IV</td>\n",
       "      <td>IV</td>\n",
       "      <td>0</td>\n",
       "      <td>0</td>\n",
       "      <td>0</td>\n",
       "      <td>0</td>\n",
       "      <td>0</td>\n",
       "      <td>1</td>\n",
       "      <td>1</td>\n",
       "      <td>0</td>\n",
       "      <td>0</td>\n",
       "      <td>0</td>\n",
       "      <td>0</td>\n",
       "      <td>0</td>\n",
       "      <td>3</td>\n",
       "      <td>0</td>\n",
       "      <td>1</td>\n",
       "      <td>1</td>\n",
       "      <td>2007</td>\n",
       "      <td>01</td>\n",
       "      <td>3547809</td>\n",
       "      <td>01</td>\n",
       "      <td>RRAS 01</td>\n",
       "      <td>SANTO ANDRE</td>\n",
       "      <td>1</td>\n",
       "      <td>0</td>\n",
       "    </tr>\n",
       "    <tr>\n",
       "      <th>339</th>\n",
       "      <td>20281</td>\n",
       "      <td>SANTA CASA DE LIMEIRA</td>\n",
       "      <td>4</td>\n",
       "      <td>66</td>\n",
       "      <td>1</td>\n",
       "      <td>3512407</td>\n",
       "      <td>9</td>\n",
       "      <td>2</td>\n",
       "      <td>C349</td>\n",
       "      <td>82513</td>\n",
       "      <td>82513.0</td>\n",
       "      <td>ADENOCARCINOMA ALVEOLAR</td>\n",
       "      <td>IV</td>\n",
       "      <td>IV</td>\n",
       "      <td>0</td>\n",
       "      <td>0</td>\n",
       "      <td>1</td>\n",
       "      <td>1</td>\n",
       "      <td>0</td>\n",
       "      <td>0</td>\n",
       "      <td>1</td>\n",
       "      <td>0</td>\n",
       "      <td>0</td>\n",
       "      <td>0</td>\n",
       "      <td>0</td>\n",
       "      <td>0</td>\n",
       "      <td>2</td>\n",
       "      <td>0</td>\n",
       "      <td>0</td>\n",
       "      <td>0</td>\n",
       "      <td>2012</td>\n",
       "      <td>10</td>\n",
       "      <td>3526902</td>\n",
       "      <td>10</td>\n",
       "      <td>RRAS 14</td>\n",
       "      <td>LIMEIRA</td>\n",
       "      <td>1</td>\n",
       "      <td>1</td>\n",
       "    </tr>\n",
       "  </tbody>\n",
       "</table>\n",
       "<p>100 rows × 38 columns</p>\n",
       "</div>"
      ],
      "text/plain": [
       "     INSTITU                      DSCINST  ESCOLARI  IDADE  SEXO     IBGE  \\\n",
       "169    20230         SANTA CASA DE ARARAS         9     73     1  3503307   \n",
       "171    20621     SANTA CASA DE ARARAQUARA         9     67     2  3529302   \n",
       "172    18058  HOSP ANCHIETA  FUNDACAO ABC         2     72     2  3548708   \n",
       "173    19976  HOSP MAT CELSO PIERRO  PUCC         9     65     2  3501608   \n",
       "174    18058  HOSP ANCHIETA  FUNDACAO ABC         3     63     1  3548708   \n",
       "..       ...                          ...       ...    ...   ...      ...   \n",
       "335        4                     SOBECCAN         5     59     2  3543402   \n",
       "336   612374                        ICESP         3     64     2  3534401   \n",
       "337    20281        SANTA CASA DE LIMEIRA         3     67     1  3526902   \n",
       "338    17174             HOSP MARIO COVAS         9     62     1  3548708   \n",
       "339    20281        SANTA CASA DE LIMEIRA         4     66     1  3512407   \n",
       "\n",
       "     CATEATEND  DIAGPREV  TOPO  MORFO     CIDO                  DESCIDO    EC  \\\n",
       "169          9         2  C340  82513  82513.0  ADENOCARCINOMA ALVEOLAR    IB   \n",
       "171          9         1  C340  82513  82513.0  ADENOCARCINOMA ALVEOLAR  IIIB   \n",
       "172          2         2  C340  82513  82513.0  ADENOCARCINOMA ALVEOLAR    IV   \n",
       "173          9         2  C340  82513  82513.0  ADENOCARCINOMA ALVEOLAR    IB   \n",
       "174          2         2  C340  82513  82513.0  ADENOCARCINOMA ALVEOLAR    IV   \n",
       "..         ...       ...   ...    ...      ...                      ...   ...   \n",
       "335          9         2  C349  82513  82513.0  ADENOCARCINOMA ALVEOLAR    IV   \n",
       "336          9         1  C349  82513  82513.0  ADENOCARCINOMA ALVEOLAR    IA   \n",
       "337          9         2  C349  82513  82513.0  ADENOCARCINOMA ALVEOLAR    IV   \n",
       "338          2         1  C349  82513  82513.0  ADENOCARCINOMA ALVEOLAR    IV   \n",
       "339          9         2  C349  82513  82513.0  ADENOCARCINOMA ALVEOLAR    IV   \n",
       "\n",
       "    ECGRUP  NENHUM  CIRURGIA  RADIO  QUIMIO  IMUNO  OUTROS  NENHUMAPOS  \\\n",
       "169      I       0         1      0       1      0       0           1   \n",
       "171    III       0         0      0       1      0       0           1   \n",
       "172     IV       0         0      1       0      0       0           1   \n",
       "173      I       0         0      0       1      0       1           0   \n",
       "174     IV       0         0      0       1      0       1           1   \n",
       "..     ...     ...       ...    ...     ...    ...     ...         ...   \n",
       "335     IV       0         0      0       1      0       0           1   \n",
       "336      I       0         1      0       0      0       0           1   \n",
       "337     IV       0         0      0       1      0       0           1   \n",
       "338     IV       0         0      0       0      0       1           1   \n",
       "339     IV       0         0      1       1      0       0           1   \n",
       "\n",
       "     CIRURAPOS  RADIOAPOS  QUIMIOAPOS  IMUNOAPOS  OUTROAPOS  ULTINFO  \\\n",
       "169          0          0           0          0          0        3   \n",
       "171          0          0           0          0          0        1   \n",
       "172          0          0           0          0          0        3   \n",
       "173          0          0           0          0          1        1   \n",
       "174          0          0           0          0          0        3   \n",
       "..         ...        ...         ...        ...        ...      ...   \n",
       "335          0          0           0          0          0        3   \n",
       "336          0          0           0          0          0        4   \n",
       "337          0          0           0          0          0        3   \n",
       "338          0          0           0          0          0        3   \n",
       "339          0          0           0          0          0        2   \n",
       "\n",
       "     CONSDIAG    TRATCONS    DIAGTRAT  ANODIAG DRS  IBGEATEN DRSINST RRASINST  \\\n",
       "169         0           0           0     2002  10   3503307      10  RRAS 14   \n",
       "171         0           0           0     2004  03   3503208      03  RRAS 18   \n",
       "172         0           1           2     2016  01   3548708      01  RRAS 01   \n",
       "173         0           0           1     2010  07   3509502      07  RRAS 15   \n",
       "174         0           0           2     2015  01   3548708      01  RRAS 01   \n",
       "..        ...         ...         ...      ...  ..       ...     ...      ...   \n",
       "335         0           0           0     2003  13   3543402      13  RRAS 13   \n",
       "336         0  Não Tratou  Não Tratou     2009  01   3550308      01  RRAS 06   \n",
       "337         0           0           1     2012  10   3526902      10  RRAS 14   \n",
       "338         0           1           1     2007  01   3547809      01  RRAS 01   \n",
       "339         0           0           0     2012  10   3526902      10  RRAS 14   \n",
       "\n",
       "                CIDADEINST  HABILIT2  OBITO  \n",
       "169                 ARARAS         1      0  \n",
       "171             ARARAQUARA         1      1  \n",
       "172  SAO BERNARDO DO CAMPO         1      0  \n",
       "173               CAMPINAS         1      1  \n",
       "174  SAO BERNARDO DO CAMPO         1      0  \n",
       "..                     ...       ...    ...  \n",
       "335         RIBEIRAO PRETO         5      0  \n",
       "336              SAO PAULO         2      0  \n",
       "337                LIMEIRA         1      0  \n",
       "338            SANTO ANDRE         1      0  \n",
       "339                LIMEIRA         1      1  \n",
       "\n",
       "[100 rows x 38 columns]"
      ]
     },
     "execution_count": 32,
     "metadata": {},
     "output_type": "execute_result"
    }
   ],
   "source": [
    "df_ajustado.head(100)"
   ]
  },
  {
   "cell_type": "code",
   "execution_count": 31,
   "metadata": {},
   "outputs": [
    {
     "data": {
      "text/plain": [
       "INSTITU       0\n",
       "DSCINST       0\n",
       "ESCOLARI      0\n",
       "IDADE         0\n",
       "SEXO          0\n",
       "IBGE          0\n",
       "CATEATEND     0\n",
       "DIAGPREV      0\n",
       "TOPO          0\n",
       "MORFO         0\n",
       "CIDO          0\n",
       "DESCIDO       0\n",
       "EC            0\n",
       "ECGRUP        0\n",
       "NENHUM        0\n",
       "CIRURGIA      0\n",
       "RADIO         0\n",
       "QUIMIO        0\n",
       "IMUNO         0\n",
       "OUTROS        0\n",
       "NENHUMAPOS    0\n",
       "CIRURAPOS     0\n",
       "RADIOAPOS     0\n",
       "QUIMIOAPOS    0\n",
       "IMUNOAPOS     0\n",
       "OUTROAPOS     0\n",
       "ULTINFO       0\n",
       "CONSDIAG      0\n",
       "TRATCONS      0\n",
       "DIAGTRAT      0\n",
       "ANODIAG       0\n",
       "DRS           0\n",
       "IBGEATEN      0\n",
       "DRSINST       0\n",
       "RRASINST      0\n",
       "CIDADEINST    0\n",
       "HABILIT2      0\n",
       "OBITO         0\n",
       "dtype: int64"
      ]
     },
     "execution_count": 31,
     "metadata": {},
     "output_type": "execute_result"
    }
   ],
   "source": [
    "df_ajustado.isnull().sum()"
   ]
  }
 ],
 "metadata": {
  "kernelspec": {
   "display_name": "Python 3",
   "language": "python",
   "name": "python3"
  },
  "language_info": {
   "codemirror_mode": {
    "name": "ipython",
    "version": 3
   },
   "file_extension": ".py",
   "mimetype": "text/x-python",
   "name": "python",
   "nbconvert_exporter": "python",
   "pygments_lexer": "ipython3",
   "version": "3.12.6"
  }
 },
 "nbformat": 4,
 "nbformat_minor": 2
}
